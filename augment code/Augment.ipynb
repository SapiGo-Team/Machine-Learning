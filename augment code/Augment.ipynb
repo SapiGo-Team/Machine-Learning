{
 "cells": [
  {
   "cell_type": "code",
   "execution_count": 1,
   "metadata": {},
   "outputs": [],
   "source": [
    "import numpy as np\n",
    "import imgaug as ia\n",
    "import imgaug.augmenters as iaa\n",
    "import cv2\n",
    "import os\n",
    "\n",
    "# Step 1: Specify the folder path where your images are located\n",
    "folder_path = 'E:\\\\Downloads\\\\Kulyah\\\\Bangkit\\\\Datasets\\\\Gum\\\\healthy'  # Replace 'path_to_folder' with the actual folder path\n",
    "\n",
    "# Step 2: Create a list of image files in the specified folder\n",
    "image_files = [file for file in os.listdir(folder_path) if file.endswith(('.jpg', '.jpeg', '.png'))]\n",
    "\n",
    "# Step 3: Create an empty list to store the loaded images\n",
    "images = []"
   ]
  },
  {
   "cell_type": "code",
   "execution_count": 2,
   "metadata": {},
   "outputs": [],
   "source": [
    "# Step 4: Load the images from the folder using cv2 and append them to the images list\n",
    "for file in image_files:\n",
    "    image_path = os.path.join(folder_path, file)\n",
    "    image = cv2.imread(image_path)\n",
    "    images.append(image)"
   ]
  },
  {
   "cell_type": "code",
   "execution_count": 3,
   "metadata": {},
   "outputs": [],
   "source": [
    "# Step 5: Specify the folder path where you want to save the augmented images\n",
    "save_folder_path = 'E:\\\\Downloads\\\\Kulyah\\\\Bangkit\\\\New_Dataset\\\\Gum\\\\Healthy\\\\'  # Replace 'path_to_save_folder' with the desired folder path\n",
    "\n",
    "# Step 6: Create the save folder if it doesn't exist already\n",
    "if not os.path.exists(save_folder_path):\n",
    "    os.makedirs(save_folder_path)"
   ]
  },
  {
   "cell_type": "code",
   "execution_count": 24,
   "metadata": {},
   "outputs": [],
   "source": [
    "# Step 7: Define the augmentation sequence\n",
    "augmentation = iaa.Sequential([\n",
    "    iaa.Fliplr(0.7),\n",
    "    iaa.Flipud(0.9),\n",
    "    iaa.Affine(rotate=(-60, 60)),\n",
    "    iaa.Crop(percent=(0, 0.1)),\n",
    "    ])"
   ]
  },
  {
   "cell_type": "code",
   "execution_count": 25,
   "metadata": {},
   "outputs": [],
   "source": [
    "# Step 8: Apply the augmentation to each image and save it\n",
    "for i, image in enumerate(images):\n",
    "    augmented_image = augmentation.augment_image(image)\n",
    "    save_path = os.path.join(save_folder_path, f\"augmented_fmdf_{i+187}.jpg\")\n",
    "    cv2.imwrite(save_path, augmented_image)"
   ]
  }
 ],
 "metadata": {
  "kernelspec": {
   "display_name": "Python 3.10.10 64-bit",
   "language": "python",
   "name": "python3"
  },
  "language_info": {
   "codemirror_mode": {
    "name": "ipython",
    "version": 3
   },
   "file_extension": ".py",
   "mimetype": "text/x-python",
   "name": "python",
   "nbconvert_exporter": "python",
   "pygments_lexer": "ipython3",
   "version": "3.10.10"
  },
  "orig_nbformat": 4,
  "vscode": {
   "interpreter": {
    "hash": "df95319d8ce4e1d89f5365ae10992bc1f65da593082b1d264e8f529830ec2f02"
   }
  }
 },
 "nbformat": 4,
 "nbformat_minor": 2
}
